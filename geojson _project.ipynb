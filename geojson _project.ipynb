{
 "cells": [
  {
   "cell_type": "code",
   "execution_count": 43,
   "id": "0b0e764d",
   "metadata": {
    "scrolled": true
   },
   "outputs": [
    {
     "ename": "ModuleNotFoundError",
     "evalue": "No module named 'config'",
     "output_type": "error",
     "traceback": [
      "\u001b[1;31m---------------------------------------------------------------------------\u001b[0m",
      "\u001b[1;31mModuleNotFoundError\u001b[0m                       Traceback (most recent call last)",
      "\u001b[1;32m~\\AppData\\Local\\Temp/ipykernel_25968/3264677725.py\u001b[0m in \u001b[0;36m<module>\u001b[1;34m\u001b[0m\n\u001b[0;32m      3\u001b[0m \u001b[1;32mimport\u001b[0m \u001b[0mjson\u001b[0m\u001b[1;33m\u001b[0m\u001b[1;33m\u001b[0m\u001b[0m\n\u001b[0;32m      4\u001b[0m \u001b[1;32mimport\u001b[0m \u001b[0mpandas\u001b[0m \u001b[1;32mas\u001b[0m \u001b[0mpd\u001b[0m\u001b[1;33m\u001b[0m\u001b[1;33m\u001b[0m\u001b[0m\n\u001b[1;32m----> 5\u001b[1;33m \u001b[1;32mfrom\u001b[0m \u001b[0mconfig\u001b[0m\u001b[1;33m.\u001b[0m\u001b[0mpy\u001b[0m \u001b[1;32mimport\u001b[0m \u001b[0mg_key\u001b[0m\u001b[1;33m\u001b[0m\u001b[1;33m\u001b[0m\u001b[0m\n\u001b[0m\u001b[0;32m      6\u001b[0m \u001b[0mgmaps\u001b[0m\u001b[1;33m.\u001b[0m\u001b[0mconfigure\u001b[0m\u001b[1;33m(\u001b[0m\u001b[0mapi_key\u001b[0m\u001b[1;33m=\u001b[0m\u001b[0mg_key\u001b[0m\u001b[1;33m)\u001b[0m\u001b[1;33m\u001b[0m\u001b[1;33m\u001b[0m\u001b[0m\n",
      "\u001b[1;31mModuleNotFoundError\u001b[0m: No module named 'config'"
     ]
    }
   ],
   "source": [
    "import gmaps\n",
    "import gmaps.geojson_geometries\n",
    "import json\n",
    "import pandas as pd\n",
    "from config.py import g_key\n"
   ]
  },
  {
   "cell_type": "code",
   "execution_count": 6,
   "id": "d32d0122",
   "metadata": {},
   "outputs": [
    {
     "data": {
      "application/vnd.jupyter.widget-view+json": {
       "model_id": "1365dcf80d4142aa8de4c49b3268e7c3",
       "version_major": 2,
       "version_minor": 0
      },
      "text/plain": [
       "Figure(layout=FigureLayout(height='420px'))"
      ]
     },
     "metadata": {},
     "output_type": "display_data"
    }
   ],
   "source": [
    "gmaps.configure(api_key=g_key)\n",
    "countries_geojson = gmaps.geojson_geometries.load_geometry('countries')\n",
    "\n",
    "fig = gmaps.figure()\n",
    "\n",
    "outline_layer= gmaps.geojson_layer(countries_geojson)\n",
    "fig.add_layer(outline_layer)\n",
    "fig"
   ]
  },
  {
   "cell_type": "code",
   "execution_count": 10,
   "id": "4b1a99f8",
   "metadata": {},
   "outputs": [
    {
     "data": {
      "text/plain": [
       "{'description': 'Map of world countries. See also `countries-high-resolution` for a higher resolution version of this.',\n",
       " 'source': 'https://github.com/datasets/geo-countries'}"
      ]
     },
     "execution_count": 10,
     "metadata": {},
     "output_type": "execute_result"
    }
   ],
   "source": [
    "gmaps.geojson_geometries.geometry_metadata('countries')"
   ]
  },
  {
   "cell_type": "code",
   "execution_count": 16,
   "id": "ee9d7706",
   "metadata": {
    "scrolled": true
   },
   "outputs": [
    {
     "data": {
      "text/plain": [
       "'Afghanistan'"
      ]
     },
     "execution_count": 16,
     "metadata": {},
     "output_type": "execute_result"
    }
   ],
   "source": [
    "countries_geojson['features'][0]['properties']['name']"
   ]
  },
  {
   "cell_type": "code",
   "execution_count": 20,
   "id": "154955f0",
   "metadata": {},
   "outputs": [],
   "source": [
    "countrylist=[]\n",
    "y=0\n",
    "\n",
    "for x in countries_geojson[\"features\"]:\n",
    "    countrylist.append(countries_geojson['features'][y]['properties']['name'])\n",
    "    y+=1"
   ]
  },
  {
   "cell_type": "code",
   "execution_count": 21,
   "id": "9d5037d3",
   "metadata": {},
   "outputs": [
    {
     "data": {
      "text/plain": [
       "217"
      ]
     },
     "execution_count": 21,
     "metadata": {},
     "output_type": "execute_result"
    }
   ],
   "source": [
    "len(countrylist)"
   ]
  },
  {
   "cell_type": "code",
   "execution_count": 25,
   "id": "7fb657c0",
   "metadata": {},
   "outputs": [],
   "source": [
    "#for opening meat consumption data\n",
    "meat_df=pd.read_csv(\"Meat consumption.csv\")"
   ]
  },
  {
   "cell_type": "code",
   "execution_count": 27,
   "id": "db729fe5",
   "metadata": {},
   "outputs": [
    {
     "data": {
      "text/plain": [
       "Guinea              2\n",
       "Afghanistan         1\n",
       "Papua New Guinea    1\n",
       "Niger               1\n",
       "Nigeria             1\n",
       "                   ..\n",
       "Grenada             1\n",
       "Guadeloupe          1\n",
       "Guam                1\n",
       "Guatemala           1\n",
       "Zimbabwe            1\n",
       "Name: Country, Length: 186, dtype: int64"
      ]
     },
     "execution_count": 27,
     "metadata": {},
     "output_type": "execute_result"
    }
   ],
   "source": [
    "meat_df[\"Country\"].value_counts()"
   ]
  },
  {
   "cell_type": "code",
   "execution_count": 29,
   "id": "b9d52191",
   "metadata": {},
   "outputs": [
    {
     "data": {
      "text/plain": [
       "Afghanistan         1\n",
       "Papua New Guinea    1\n",
       "Nicaragua           1\n",
       "Niger               1\n",
       "Nigeria             1\n",
       "                   ..\n",
       "Grenada             1\n",
       "Guadeloupe          1\n",
       "Guam                1\n",
       "Guatemala           1\n",
       "Zimbabwe            1\n",
       "Name: Country, Length: 186, dtype: int64"
      ]
     },
     "execution_count": 29,
     "metadata": {},
     "output_type": "execute_result"
    }
   ],
   "source": [
    "meat_clean_df = meat_df.drop_duplicates(subset=\"Country\")\n",
    "meat_clean_df[\"Country\"].value_counts()"
   ]
  },
  {
   "cell_type": "code",
   "execution_count": 42,
   "id": "032d349f",
   "metadata": {},
   "outputs": [],
   "source": [
    "meat_countries = meat_clean_df[\"Country\"]\n",
    "\n",
    "countryseries= pd.Series(countrylist)\n",
    "countryseries.name =\"Country\"\n",
    "\n",
    "# countryseries.compare(meat_countries)"
   ]
  },
  {
   "cell_type": "code",
   "execution_count": null,
   "id": "af8c99b9",
   "metadata": {},
   "outputs": [],
   "source": [
    "#match to geojson countries to countries in meat consumption\n",
    "#save as clean csv"
   ]
  },
  {
   "cell_type": "code",
   "execution_count": null,
   "id": "f3ba93f5",
   "metadata": {},
   "outputs": [],
   "source": [
    "#nested for loops to convert csv to json\n"
   ]
  },
  {
   "cell_type": "code",
   "execution_count": null,
   "id": "78ddd248",
   "metadata": {},
   "outputs": [],
   "source": [
    "    \n",
    "    \n",
    "fig = gmaps.figure()\n",
    "geojson_layer = gmaps.geojson_layer(meat)\n",
    "fig.add_layer(geojson_layer)\n",
    "fig"
   ]
  }
 ],
 "metadata": {
  "kernelspec": {
   "display_name": "Python [conda env:PythonData] *",
   "language": "python",
   "name": "conda-env-PythonData-py"
  },
  "language_info": {
   "codemirror_mode": {
    "name": "ipython",
    "version": 3
   },
   "file_extension": ".py",
   "mimetype": "text/x-python",
   "name": "python",
   "nbconvert_exporter": "python",
   "pygments_lexer": "ipython3",
   "version": "3.8.12"
  }
 },
 "nbformat": 4,
 "nbformat_minor": 5
}
